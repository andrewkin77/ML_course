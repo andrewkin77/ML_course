{
 "cells": [
  {
   "cell_type": "markdown",
   "metadata": {},
   "source": [
    "# Классификация adware (нейронные сети)\n",
    "\n",
    "## Описание задачи\n",
    "У нас есть датасет с различными данными о сетевом трафике. Требуется по этим данным определить тип adware: это может быть одна из 5 вредоносных программ, либо же adware может быть безвредной (benign)"
   ]
  },
  {
   "cell_type": "code",
   "execution_count": 1,
   "metadata": {},
   "outputs": [],
   "source": [
    "import numpy as np\n",
    "import matplotlib.pyplot as plt\n",
    "%matplotlib inline\n",
    "import pandas as pd\n",
    "import seaborn as sns\n",
    "import sklearn"
   ]
  },
  {
   "cell_type": "markdown",
   "metadata": {},
   "source": [
    "## Чтение данных"
   ]
  },
  {
   "cell_type": "code",
   "execution_count": 2,
   "metadata": {},
   "outputs": [],
   "source": [
    "url = './data/Adware_Multiclass_Classification.csv'\n",
    "data_raw = pd.read_csv(url)"
   ]
  },
  {
   "cell_type": "code",
   "execution_count": 3,
   "metadata": {},
   "outputs": [
    {
     "data": {
      "text/plain": [
       "(276095, 86)"
      ]
     },
     "execution_count": 3,
     "metadata": {},
     "output_type": "execute_result"
    }
   ],
   "source": [
    "data_raw.shape"
   ]
  },
  {
   "cell_type": "markdown",
   "metadata": {},
   "source": [
    "Сразу уберём Unnamed столбец, так как это просто порядковый номер записи"
   ]
  },
  {
   "cell_type": "code",
   "execution_count": 4,
   "metadata": {},
   "outputs": [],
   "source": [
    "data = data_raw.drop(columns = ['Unnamed: 0'])"
   ]
  },
  {
   "cell_type": "markdown",
   "metadata": {},
   "source": [
    "## Обработка категориальных признаков"
   ]
  },
  {
   "cell_type": "code",
   "execution_count": 5,
   "metadata": {},
   "outputs": [
    {
     "data": {
      "text/plain": [
       "['Flow ID', 'Source IP', 'Destination IP', 'Timestamp']"
      ]
     },
     "execution_count": 5,
     "metadata": {},
     "output_type": "execute_result"
    }
   ],
   "source": [
    "cat_cols = [col for col in data.columns if data[col].dtype.name == \"object\" and col != 'Class']\n",
    "cat_cols"
   ]
  },
  {
   "cell_type": "code",
   "execution_count": 6,
   "metadata": {},
   "outputs": [],
   "source": [
    "from sklearn import preprocessing\n",
    "for col_name in cat_cols:\n",
    "    data[col_name] = preprocessing.LabelEncoder().fit_transform(data[col_name])"
   ]
  },
  {
   "cell_type": "markdown",
   "metadata": {},
   "source": [
    "Используем labelEncoder так как уникальных значений у этих признаков слишком много"
   ]
  },
  {
   "cell_type": "code",
   "execution_count": 7,
   "metadata": {},
   "outputs": [
    {
     "name": "stdout",
     "output_type": "stream",
     "text": [
      "['BENIGN' 'ADWARE_MOBIDASH' 'ADWARE_EWIND' 'ADWARE_DOWGIN'\n",
      " 'ADWARE_SHUANET' 'ADWARE_KEMOGE']\n"
     ]
    }
   ],
   "source": [
    "class_arr = data['Class'].unique()\n",
    "print(class_arr)"
   ]
  },
  {
   "cell_type": "code",
   "execution_count": 8,
   "metadata": {},
   "outputs": [
    {
     "name": "stdout",
     "output_type": "stream",
     "text": [
      "[0 1 2 3 4 5]\n"
     ]
    }
   ],
   "source": [
    "i = 0\n",
    "for class_name in class_arr:\n",
    "    data.at[data['Class'] == class_name, 'Class'] = i\n",
    "    i+= 1\n",
    "print(data['Class'].unique())"
   ]
  },
  {
   "cell_type": "markdown",
   "metadata": {},
   "source": [
    "Закодировали классы целыми числами от 0 до 5\n",
    "- 0 - Benign\n",
    "- 1 - ADWARE_MOBIDASH\n",
    "- 2 - ADWARE_EWIND\n",
    "- 3 - ADWARE_DOWGIN\n",
    "- 4 - ADWARE_SHUANET\n",
    "- 5 - ADWARE_KEMOGE"
   ]
  },
  {
   "cell_type": "markdown",
   "metadata": {},
   "source": [
    "## Нормализация"
   ]
  },
  {
   "cell_type": "code",
   "execution_count": 9,
   "metadata": {
    "scrolled": false
   },
   "outputs": [],
   "source": [
    "data_stand = data.drop(columns = ['Class'])\n",
    "data_stand = data_stand.astype('float64')\n",
    "data_stand = (data_stand - data_stand.mean(axis = 0)) / data_stand.std(axis = 0)\n",
    "data_stand = data_stand.fillna(0.0)"
   ]
  },
  {
   "cell_type": "markdown",
   "metadata": {},
   "source": [
    "## Разбитие выборки"
   ]
  },
  {
   "cell_type": "code",
   "execution_count": 10,
   "metadata": {},
   "outputs": [
    {
     "data": {
      "text/plain": [
       "((276095, 84), (276095,))"
      ]
     },
     "execution_count": 10,
     "metadata": {},
     "output_type": "execute_result"
    }
   ],
   "source": [
    "X = data_stand\n",
    "y = data['Class']\n",
    "\n",
    "X = X.to_numpy()\n",
    "y = np.array(y, dtype = 'int')\n",
    "\n",
    "X.shape, y.shape"
   ]
  },
  {
   "cell_type": "code",
   "execution_count": 11,
   "metadata": {},
   "outputs": [
    {
     "data": {
      "text/plain": [
       "(207071, 69024)"
      ]
     },
     "execution_count": 11,
     "metadata": {},
     "output_type": "execute_result"
    }
   ],
   "source": [
    "from sklearn.model_selection import train_test_split\n",
    "X_train, X_test, y_train, y_test = train_test_split(X, y, test_size = 0.25, random_state = 42)\n",
    "\n",
    "N_train, _ = X_train.shape \n",
    "N_test,  _ = X_test.shape \n",
    "\n",
    "N_train, N_test"
   ]
  },
  {
   "cell_type": "markdown",
   "metadata": {},
   "source": [
    "## 1 скрытый слой"
   ]
  },
  {
   "cell_type": "code",
   "execution_count": 12,
   "metadata": {},
   "outputs": [],
   "source": [
    "from sklearn.neural_network import MLPClassifier\n",
    "\n",
    "mlp_model = MLPClassifier(hidden_layer_sizes = (80,),\n",
    "                          solver = 'adam', \n",
    "                          activation = 'logistic',\n",
    "                          random_state = 42,\n",
    "                          tol = 0.001,\n",
    "                          verbose=True)"
   ]
  },
  {
   "cell_type": "code",
   "execution_count": 13,
   "metadata": {},
   "outputs": [
    {
     "name": "stdout",
     "output_type": "stream",
     "text": [
      "Iteration 1, loss = 1.00555281\n",
      "Iteration 2, loss = 0.84077595\n",
      "Iteration 3, loss = 0.77143528\n",
      "Iteration 4, loss = 0.65941970\n",
      "Iteration 5, loss = 0.52673965\n",
      "Iteration 6, loss = 0.41794905\n",
      "Iteration 7, loss = 0.34969847\n",
      "Iteration 8, loss = 0.30973553\n",
      "Iteration 9, loss = 0.28493679\n",
      "Iteration 10, loss = 0.26810860\n",
      "Iteration 11, loss = 0.25569674\n",
      "Iteration 12, loss = 0.24598913\n",
      "Iteration 13, loss = 0.23827796\n",
      "Iteration 14, loss = 0.23142802\n",
      "Iteration 15, loss = 0.22568377\n",
      "Iteration 16, loss = 0.22069304\n",
      "Iteration 17, loss = 0.21625034\n",
      "Iteration 18, loss = 0.21219885\n",
      "Iteration 19, loss = 0.20889202\n",
      "Iteration 20, loss = 0.20565557\n",
      "Iteration 21, loss = 0.20274034\n",
      "Iteration 22, loss = 0.20026166\n",
      "Iteration 23, loss = 0.19805111\n",
      "Iteration 24, loss = 0.19584875\n",
      "Iteration 25, loss = 0.19416610\n",
      "Iteration 26, loss = 0.19235860\n",
      "Iteration 27, loss = 0.19084449\n",
      "Iteration 28, loss = 0.18921008\n",
      "Iteration 29, loss = 0.18795814\n",
      "Iteration 30, loss = 0.18663369\n",
      "Iteration 31, loss = 0.18564155\n",
      "Iteration 32, loss = 0.18471212\n",
      "Iteration 33, loss = 0.18372395\n",
      "Iteration 34, loss = 0.18280298\n",
      "Iteration 35, loss = 0.18218332\n",
      "Iteration 36, loss = 0.18114256\n",
      "Iteration 37, loss = 0.18055258\n",
      "Iteration 38, loss = 0.17968821\n",
      "Iteration 39, loss = 0.17944914\n",
      "Iteration 40, loss = 0.17849389\n",
      "Iteration 41, loss = 0.17782123\n",
      "Iteration 42, loss = 0.17752875\n",
      "Iteration 43, loss = 0.17681528\n",
      "Iteration 44, loss = 0.17646661\n",
      "Iteration 45, loss = 0.17577363\n",
      "Iteration 46, loss = 0.17517081\n",
      "Iteration 47, loss = 0.17480085\n",
      "Training loss did not improve more than tol=0.001000 for 10 consecutive epochs. Stopping.\n",
      "CPU times: user 2min 18s, sys: 798 ms, total: 2min 19s\n",
      "Wall time: 35.1 s\n"
     ]
    },
    {
     "data": {
      "text/plain": [
       "MLPClassifier(activation='logistic', hidden_layer_sizes=(80,), random_state=42,\n",
       "              tol=0.001, verbose=True)"
      ]
     },
     "execution_count": 13,
     "metadata": {},
     "output_type": "execute_result"
    }
   ],
   "source": [
    "%%time\n",
    "mlp_model.fit(X_train, y_train)"
   ]
  },
  {
   "cell_type": "code",
   "execution_count": 14,
   "metadata": {},
   "outputs": [],
   "source": [
    "from sklearn.metrics import accuracy_score"
   ]
  },
  {
   "cell_type": "markdown",
   "metadata": {},
   "source": [
    "### Проверяем качество"
   ]
  },
  {
   "cell_type": "code",
   "execution_count": 15,
   "metadata": {},
   "outputs": [
    {
     "name": "stdout",
     "output_type": "stream",
     "text": [
      "Test set error: 0.08892559109874826\n",
      "Training set error: 0.08394222271588006\n"
     ]
    }
   ],
   "source": [
    "y_test_predict  = mlp_model.predict(X_test)\n",
    "y_train_predict = mlp_model.predict(X_train)\n",
    "err_test = np.mean(y_test != y_test_predict)\n",
    "err_train = np.mean(y_train != y_train_predict)\n",
    "print(\"Test set error: {}\".format(err_test))\n",
    "print(\"Training set error: {}\".format(err_train))"
   ]
  },
  {
   "cell_type": "code",
   "execution_count": 16,
   "metadata": {
    "scrolled": true
   },
   "outputs": [
    {
     "name": "stdout",
     "output_type": "stream",
     "text": [
      "              precision    recall  f1-score   support\n",
      "\n",
      "           0       1.00      1.00      1.00     41733\n",
      "           1       0.64      0.42      0.51      4929\n",
      "           2       0.90      0.91      0.90      6138\n",
      "           3       0.61      0.82      0.70      5742\n",
      "           4       0.85      0.81      0.83      4718\n",
      "           5       0.90      0.87      0.88      5764\n",
      "\n",
      "    accuracy                           0.91     69024\n",
      "   macro avg       0.82      0.80      0.80     69024\n",
      "weighted avg       0.91      0.91      0.91     69024\n",
      "\n"
     ]
    }
   ],
   "source": [
    "print(sklearn.metrics.classification_report(y_test, y_test_predict))"
   ]
  },
  {
   "cell_type": "markdown",
   "metadata": {},
   "source": [
    "## 2 скрытых слоя"
   ]
  },
  {
   "cell_type": "code",
   "execution_count": 17,
   "metadata": {},
   "outputs": [],
   "source": [
    "from sklearn.neural_network import MLPClassifier\n",
    "\n",
    "mlp_model = MLPClassifier(hidden_layer_sizes = (80, 40),\n",
    "                          solver = 'adam', \n",
    "                          activation = 'logistic',\n",
    "                          random_state = 42,\n",
    "                          tol = 0.001,\n",
    "                          verbose=1)"
   ]
  },
  {
   "cell_type": "code",
   "execution_count": 18,
   "metadata": {},
   "outputs": [
    {
     "name": "stdout",
     "output_type": "stream",
     "text": [
      "Iteration 1, loss = 0.92064210\n",
      "Iteration 2, loss = 0.52966541\n",
      "Iteration 3, loss = 0.39436566\n",
      "Iteration 4, loss = 0.30648434\n",
      "Iteration 5, loss = 0.25365418\n",
      "Iteration 6, loss = 0.22947162\n",
      "Iteration 7, loss = 0.21627214\n",
      "Iteration 8, loss = 0.20751127\n",
      "Iteration 9, loss = 0.20093272\n",
      "Iteration 10, loss = 0.19586412\n",
      "Iteration 11, loss = 0.19242974\n",
      "Iteration 12, loss = 0.18772983\n",
      "Iteration 13, loss = 0.18474888\n",
      "Iteration 14, loss = 0.18212118\n",
      "Iteration 15, loss = 0.18002139\n",
      "Iteration 16, loss = 0.17790719\n",
      "Iteration 17, loss = 0.17612769\n",
      "Iteration 18, loss = 0.17476518\n",
      "Iteration 19, loss = 0.17260763\n",
      "Iteration 20, loss = 0.17131730\n",
      "Iteration 21, loss = 0.17071463\n",
      "Iteration 22, loss = 0.16889022\n",
      "Iteration 23, loss = 0.16768678\n",
      "Iteration 24, loss = 0.16755867\n",
      "Iteration 25, loss = 0.16628848\n",
      "Iteration 26, loss = 0.16543081\n",
      "Iteration 27, loss = 0.16416839\n",
      "Iteration 28, loss = 0.16398890\n",
      "Iteration 29, loss = 0.16345018\n",
      "Iteration 30, loss = 0.16195782\n",
      "Iteration 31, loss = 0.16087722\n",
      "Iteration 32, loss = 0.16099078\n",
      "Iteration 33, loss = 0.15982242\n",
      "Iteration 34, loss = 0.15992707\n",
      "Iteration 35, loss = 0.15845698\n",
      "Iteration 36, loss = 0.15769245\n",
      "Iteration 37, loss = 0.15648048\n",
      "Iteration 38, loss = 0.15649573\n",
      "Iteration 39, loss = 0.15610594\n",
      "Iteration 40, loss = 0.15518178\n",
      "Iteration 41, loss = 0.15427449\n",
      "Iteration 42, loss = 0.15489294\n",
      "Iteration 43, loss = 0.15381296\n",
      "Iteration 44, loss = 0.15284408\n",
      "Iteration 45, loss = 0.15252953\n",
      "Iteration 46, loss = 0.15208279\n",
      "Iteration 47, loss = 0.15031859\n",
      "Iteration 48, loss = 0.15107763\n",
      "Iteration 49, loss = 0.15114727\n",
      "Iteration 50, loss = 0.15020002\n",
      "Iteration 51, loss = 0.14899011\n",
      "Iteration 52, loss = 0.14996605\n",
      "Iteration 53, loss = 0.14799342\n",
      "Iteration 54, loss = 0.14828840\n",
      "Iteration 55, loss = 0.14744061\n",
      "Iteration 56, loss = 0.14727140\n",
      "Iteration 57, loss = 0.14577118\n",
      "Iteration 58, loss = 0.14602241\n",
      "Iteration 59, loss = 0.14626378\n",
      "Iteration 60, loss = 0.14500724\n",
      "Iteration 61, loss = 0.14427391\n",
      "Iteration 62, loss = 0.14418415\n",
      "Iteration 63, loss = 0.14391954\n",
      "Iteration 64, loss = 0.14357130\n",
      "Iteration 65, loss = 0.14266701\n",
      "Iteration 66, loss = 0.14280962\n",
      "Iteration 67, loss = 0.14192550\n",
      "Iteration 68, loss = 0.14129688\n",
      "Training loss did not improve more than tol=0.001000 for 10 consecutive epochs. Stopping.\n",
      "CPU times: user 4min 31s, sys: 1.45 s, total: 4min 32s\n",
      "Wall time: 1min 8s\n"
     ]
    },
    {
     "data": {
      "text/plain": [
       "MLPClassifier(activation='logistic', hidden_layer_sizes=(80, 40),\n",
       "              random_state=42, tol=0.001, verbose=1)"
      ]
     },
     "execution_count": 18,
     "metadata": {},
     "output_type": "execute_result"
    }
   ],
   "source": [
    "%%time\n",
    "mlp_model.fit(X_train, y_train)"
   ]
  },
  {
   "cell_type": "markdown",
   "metadata": {},
   "source": [
    "### Проверяем качество"
   ]
  },
  {
   "cell_type": "code",
   "execution_count": 19,
   "metadata": {},
   "outputs": [
    {
     "name": "stdout",
     "output_type": "stream",
     "text": [
      "Test set error: 0.07117814093648586\n",
      "Training set error: 0.06710258800121698\n"
     ]
    }
   ],
   "source": [
    "y_test_predict  = mlp_model.predict(X_test)\n",
    "y_train_predict = mlp_model.predict(X_train)\n",
    "err_test = np.mean(y_test != y_test_predict)\n",
    "err_train = np.mean(y_train != y_train_predict)\n",
    "print(\"Test set error: {}\".format(err_test))\n",
    "print(\"Training set error: {}\".format(err_train))"
   ]
  },
  {
   "cell_type": "code",
   "execution_count": 20,
   "metadata": {
    "scrolled": true
   },
   "outputs": [
    {
     "name": "stdout",
     "output_type": "stream",
     "text": [
      "              precision    recall  f1-score   support\n",
      "\n",
      "           0       1.00      1.00      1.00     41733\n",
      "           1       0.73      0.52      0.61      4929\n",
      "           2       0.93      0.91      0.92      6138\n",
      "           3       0.67      0.84      0.74      5742\n",
      "           4       0.90      0.88      0.89      4718\n",
      "           5       0.89      0.92      0.91      5764\n",
      "\n",
      "    accuracy                           0.93     69024\n",
      "   macro avg       0.85      0.84      0.84     69024\n",
      "weighted avg       0.93      0.93      0.93     69024\n",
      "\n"
     ]
    }
   ],
   "source": [
    "print(sklearn.metrics.classification_report(y_test, y_test_predict))"
   ]
  },
  {
   "cell_type": "markdown",
   "metadata": {},
   "source": [
    "Получили, что сеть с 2-мя скрытыми слоями даёт более точные предсказания, хоть и не очень значительно"
   ]
  },
  {
   "cell_type": "markdown",
   "metadata": {},
   "source": [
    "## Подбор параметра alpha"
   ]
  },
  {
   "cell_type": "code",
   "execution_count": 21,
   "metadata": {},
   "outputs": [],
   "source": [
    "alpha_arr = np.logspace(-3, 2, 21)\n",
    "test_err = []\n",
    "train_err = []\n",
    "train_acc = []\n",
    "test_acc = []\n",
    "\n",
    "for alpha in alpha_arr:\n",
    "    mlp_model = MLPClassifier(alpha = alpha, hidden_layer_sizes = (80,), \n",
    "                              solver = 'adam', activation = 'logistic', max_iter=1000, random_state = 42, tol=0.001)\n",
    "    mlp_model.fit(X_train, y_train)\n",
    "\n",
    "    y_train_pred = mlp_model.predict(X_train)\n",
    "    y_test_pred = mlp_model.predict(X_test)\n",
    "    \n",
    "    train_err.append(np.mean(y_train != y_train_pred))\n",
    "    test_err.append(np.mean(y_test != y_test_pred))\n",
    "    train_acc.append(accuracy_score(y_train, y_train_pred))\n",
    "    test_acc.append(accuracy_score(y_test, y_test_pred))"
   ]
  },
  {
   "cell_type": "code",
   "execution_count": 22,
   "metadata": {},
   "outputs": [
    {
     "data": {
      "text/plain": [
       "<matplotlib.legend.Legend at 0x7fb18c71d750>"
      ]
     },
     "execution_count": 22,
     "metadata": {},
     "output_type": "execute_result"
    },
    {
     "data": {
      "image/png": "[encoded data removed]",
      "text/plain": [
       "<Figure size 432x288 with 1 Axes>"
      ]
     },
     "metadata": {
      "needs_background": "light"
     },
     "output_type": "display_data"
    }
   ],
   "source": [
    "plt.semilogx(alpha_arr, train_err, 'b-o', label = 'train')\n",
    "plt.semilogx(alpha_arr, test_err, 'r-o', label = 'test')\n",
    "plt.xlim([np.min(alpha_arr), np.max(alpha_arr)])\n",
    "plt.title('Error vs. alpha')\n",
    "plt.xlabel('alpha')\n",
    "plt.ylabel('error')\n",
    "plt.legend()"
   ]
  },
  {
   "cell_type": "code",
   "execution_count": 23,
   "metadata": {
    "scrolled": true
   },
   "outputs": [
    {
     "data": {
      "text/plain": [
       "<matplotlib.legend.Legend at 0x7fb18c7345d0>"
      ]
     },
     "execution_count": 23,
     "metadata": {},
     "output_type": "execute_result"
    },
    {
     "data": {
      "image/png": "[encoded data removed]",
      "text/plain": [
       "<Figure size 432x288 with 1 Axes>"
      ]
     },
     "metadata": {
      "needs_background": "light"
     },
     "output_type": "display_data"
    }
   ],
   "source": [
    "plt.semilogx(alpha_arr, train_acc, 'r-o', label = 'train')\n",
    "plt.semilogx(alpha_arr, test_acc, 'b-o', label = 'test')\n",
    "plt.xlim([np.min(alpha_arr), np.max(alpha_arr)])\n",
    "plt.title('Accuracy vs. alpha')\n",
    "plt.xlabel('alpha')\n",
    "plt.ylabel('Accuracy')\n",
    "plt.legend()"
   ]
  },
  {
   "cell_type": "markdown",
   "metadata": {},
   "source": [
    "### Минимальная ошибка"
   ]
  },
  {
   "cell_type": "code",
   "execution_count": 24,
   "metadata": {},
   "outputs": [
    {
     "name": "stdout",
     "output_type": "stream",
     "text": [
      "Minimum training set error: 0.08739031539906603\n",
      "Minimum test set error: 0.0928227862772369\n"
     ]
    }
   ],
   "source": [
    "min_train_err = np.min(train_err)\n",
    "min_test_err = np.min(test_err)\n",
    "print(\"Minimum training set error: {}\".format(min_train_err))\n",
    "print(\"Minimum test set error: {}\".format(min_test_err))"
   ]
  },
  {
   "cell_type": "code",
   "execution_count": 25,
   "metadata": {},
   "outputs": [
    {
     "name": "stdout",
     "output_type": "stream",
     "text": [
      "Optimal alpha: 0.001\n"
     ]
    }
   ],
   "source": [
    "alpha_opt = alpha_arr[test_err == min_test_err]\n",
    "alpha_opt = alpha_opt[0]\n",
    "print(\"Optimal alpha: {}\".format(alpha_opt))"
   ]
  },
  {
   "cell_type": "markdown",
   "metadata": {},
   "source": [
    "## Подбор числа нейронов"
   ]
  },
  {
   "cell_type": "code",
   "execution_count": 26,
   "metadata": {},
   "outputs": [],
   "source": [
    "neuron_arr = [num for num in range(5, 100, 5)]\n",
    "test_err = []\n",
    "train_err = []\n",
    "train_acc = []\n",
    "test_acc = []\n",
    "\n",
    "for num in neuron_arr:\n",
    "    mlp_model = MLPClassifier(alpha = alpha_opt, hidden_layer_sizes = (num,), \n",
    "                              solver = 'adam', activation = 'logistic', max_iter=1000, random_state = 42, tol=0.001)\n",
    "    mlp_model.fit(X_train, y_train)\n",
    "\n",
    "    y_train_pred = mlp_model.predict(X_train)\n",
    "    y_test_pred = mlp_model.predict(X_test)\n",
    "    \n",
    "    train_err.append(np.mean(y_train != y_train_pred))\n",
    "    test_err.append(np.mean(y_test != y_test_pred))\n",
    "    train_acc.append(accuracy_score(y_train, y_train_pred))\n",
    "    test_acc.append(accuracy_score(y_test, y_test_pred))"
   ]
  },
  {
   "cell_type": "code",
   "execution_count": 27,
   "metadata": {},
   "outputs": [
    {
     "data": {
      "text/plain": [
       "<matplotlib.legend.Legend at 0x7fb1951ba590>"
      ]
     },
     "execution_count": 27,
     "metadata": {},
     "output_type": "execute_result"
    },
    {
     "data": {
      "image/png": "[encoded data removed]",
      "text/plain": [
       "<Figure size 432x288 with 1 Axes>"
      ]
     },
     "metadata": {
      "needs_background": "light"
     },
     "output_type": "display_data"
    }
   ],
   "source": [
    "plt.semilogx(neuron_arr, train_err, 'b-o', label = 'train')\n",
    "plt.semilogx(neuron_arr, test_err, 'r-o', label = 'test')\n",
    "plt.xlim([np.min(neuron_arr), np.max(neuron_arr)])\n",
    "plt.title('Error vs. number of neurons')\n",
    "plt.xlabel('number of neurons')\n",
    "plt.ylabel('error')\n",
    "plt.legend()"
   ]
  },
  {
   "cell_type": "code",
   "execution_count": 28,
   "metadata": {},
   "outputs": [
    {
     "data": {
      "text/plain": [
       "<matplotlib.legend.Legend at 0x7fb1917b61d0>"
      ]
     },
     "execution_count": 28,
     "metadata": {},
     "output_type": "execute_result"
    },
    {
     "data": {
      "image/png": "[encoded data removed]",
      "text/plain": [
       "<Figure size 432x288 with 1 Axes>"
      ]
     },
     "metadata": {
      "needs_background": "light"
     },
     "output_type": "display_data"
    }
   ],
   "source": [
    "plt.semilogx(neuron_arr, train_acc, 'b-o', label = 'train')\n",
    "plt.semilogx(neuron_arr, test_acc, 'r-o', label = 'test')\n",
    "plt.xlim([np.min(neuron_arr), np.max(neuron_arr)])\n",
    "plt.title('Accuracy vs. number of neurons')\n",
    "plt.xlabel('number of neurons')\n",
    "plt.ylabel('accuracy')\n",
    "plt.legend()"
   ]
  },
  {
   "cell_type": "markdown",
   "metadata": {},
   "source": [
    "## Минимальная ошибка"
   ]
  },
  {
   "cell_type": "code",
   "execution_count": 29,
   "metadata": {},
   "outputs": [
    {
     "name": "stdout",
     "output_type": "stream",
     "text": [
      "Minimum training set error: 0.08430441732545842\n",
      "Minimum test set error: 0.08964997681965693\n"
     ]
    }
   ],
   "source": [
    "min_train_err = np.min(train_err)\n",
    "min_test_err = np.min(test_err)\n",
    "print(\"Minimum training set error: {}\".format(min_train_err))\n",
    "print(\"Minimum test set error: {}\".format(min_test_err))"
   ]
  },
  {
   "cell_type": "code",
   "execution_count": 30,
   "metadata": {},
   "outputs": [
    {
     "name": "stdout",
     "output_type": "stream",
     "text": [
      "Optimal number of neurons: 85\n"
     ]
    }
   ],
   "source": [
    "ind = test_err.index(min_test_err)\n",
    "num_opt = neuron_arr[ind]\n",
    "print(\"Optimal number of neurons: {}\".format(num_opt))"
   ]
  },
  {
   "cell_type": "markdown",
   "metadata": {},
   "source": [
    "## Обучение сети с оптимальными параметрами"
   ]
  },
  {
   "cell_type": "code",
   "execution_count": 31,
   "metadata": {},
   "outputs": [],
   "source": [
    "mlp_model = MLPClassifier(alpha = alpha_opt,\n",
    "                          hidden_layer_sizes = (num_opt,),\n",
    "                          solver = 'adam', \n",
    "                          activation = 'logistic',\n",
    "                          random_state = 42,\n",
    "                          tol = 0.001\n",
    "                          )"
   ]
  },
  {
   "cell_type": "code",
   "execution_count": 32,
   "metadata": {},
   "outputs": [
    {
     "name": "stdout",
     "output_type": "stream",
     "text": [
      "CPU times: user 2min 14s, sys: 645 ms, total: 2min 14s\n",
      "Wall time: 33.8 s\n"
     ]
    },
    {
     "data": {
      "text/plain": [
       "MLPClassifier(activation='logistic', alpha=0.001, hidden_layer_sizes=(85,),\n",
       "              random_state=42, tol=0.001)"
      ]
     },
     "execution_count": 32,
     "metadata": {},
     "output_type": "execute_result"
    }
   ],
   "source": [
    "%%time\n",
    "mlp_model.fit(X_train, y_train)"
   ]
  },
  {
   "cell_type": "code",
   "execution_count": 33,
   "metadata": {},
   "outputs": [
    {
     "name": "stdout",
     "output_type": "stream",
     "text": [
      "Test set error: 0.08964997681965693\n",
      "Training set error: 0.08430441732545842\n"
     ]
    }
   ],
   "source": [
    "y_test_predict  = mlp_model.predict(X_test)\n",
    "y_train_predict = mlp_model.predict(X_train)\n",
    "err_test = np.mean(y_test != y_test_predict)\n",
    "err_train = np.mean(y_train != y_train_predict)\n",
    "print(\"Test set error: {}\".format(err_test))\n",
    "print(\"Training set error: {}\".format(err_train))"
   ]
  },
  {
   "cell_type": "code",
   "execution_count": 34,
   "metadata": {},
   "outputs": [
    {
     "name": "stdout",
     "output_type": "stream",
     "text": [
      "              precision    recall  f1-score   support\n",
      "\n",
      "           0       1.00      1.00      1.00     41733\n",
      "           1       0.66      0.40      0.50      4929\n",
      "           2       0.88      0.93      0.90      6138\n",
      "           3       0.62      0.81      0.71      5742\n",
      "           4       0.82      0.84      0.83      4718\n",
      "           5       0.92      0.84      0.88      5764\n",
      "\n",
      "    accuracy                           0.91     69024\n",
      "   macro avg       0.81      0.80      0.80     69024\n",
      "weighted avg       0.91      0.91      0.91     69024\n",
      "\n"
     ]
    }
   ],
   "source": [
    "print(sklearn.metrics.classification_report(y_test, y_test_predict))"
   ]
  },
  {
   "cell_type": "markdown",
   "metadata": {},
   "source": [
    "## Матрица рассогласования"
   ]
  },
  {
   "cell_type": "code",
   "execution_count": 35,
   "metadata": {},
   "outputs": [
    {
     "name": "stderr",
     "output_type": "stream",
     "text": [
      "/Users/andrew/opt/anaconda3/lib/python3.7/site-packages/sklearn/utils/deprecation.py:87: FutureWarning: Function plot_confusion_matrix is deprecated; Function `plot_confusion_matrix` is deprecated in 1.0 and will be removed in 1.2. Use one of the class methods: ConfusionMatrixDisplay.from_predictions or ConfusionMatrixDisplay.from_estimator.\n",
      "  warnings.warn(msg, category=FutureWarning)\n"
     ]
    },
    {
     "data": {
      "text/plain": [
       "<sklearn.metrics._plot.confusion_matrix.ConfusionMatrixDisplay at 0x7fb194fe1c90>"
      ]
     },
     "execution_count": 35,
     "metadata": {},
     "output_type": "execute_result"
    },
    {
     "data": {
      "image/png": "[encoded data removed]",
      "text/plain": [
       "<Figure size 432x288 with 2 Axes>"
      ]
     },
     "metadata": {
      "needs_background": "light"
     },
     "output_type": "display_data"
    }
   ],
   "source": [
    "from sklearn.metrics import plot_confusion_matrix\n",
    "\n",
    "plot_confusion_matrix(mlp_model, X_test, y_test) "
   ]
  }
 ],
 "metadata": {
  "kernelspec": {
   "display_name": "Python 3 (ipykernel)",
   "language": "python",
   "name": "python3"
  },
  "language_info": {
   "codemirror_mode": {
    "name": "ipython",
    "version": 3
   },
   "file_extension": ".py",
   "mimetype": "text/x-python",
   "name": "python",
   "nbconvert_exporter": "python",
   "pygments_lexer": "ipython3",
   "version": "3.7.9"
  }
 },
 "nbformat": 4,
 "nbformat_minor": 4
}
